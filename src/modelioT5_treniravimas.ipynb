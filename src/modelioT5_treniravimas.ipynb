{
  "nbformat": 4,
  "nbformat_minor": 0,
  "metadata": {
    "colab": {
      "provenance": [],
      "gpuType": "T4",
      "authorship_tag": "ABX9TyNq7xyLPuAGrVxvHwZnqNiC",
      "include_colab_link": true
    },
    "kernelspec": {
      "name": "python3",
      "display_name": "Python 3"
    },
    "language_info": {
      "name": "python"
    },
    "accelerator": "GPU",
    "widgets": {
      "application/vnd.jupyter.widget-state+json": {
        "05d630dc810b45dda5ccea8db1813427": {
          "model_module": "@jupyter-widgets/controls",
          "model_name": "HBoxModel",
          "model_module_version": "1.5.0",
          "state": {
            "_dom_classes": [],
            "_model_module": "@jupyter-widgets/controls",
            "_model_module_version": "1.5.0",
            "_model_name": "HBoxModel",
            "_view_count": null,
            "_view_module": "@jupyter-widgets/controls",
            "_view_module_version": "1.5.0",
            "_view_name": "HBoxView",
            "box_style": "",
            "children": [
              "IPY_MODEL_4b61da73ab4b48748d740b0eed7ffb52",
              "IPY_MODEL_2f3420051eb54ea6a5866dc287d573cd",
              "IPY_MODEL_9b682a5d01864e299ba62ace4a4dd23e"
            ],
            "layout": "IPY_MODEL_908d1cbfb8264480992cf7f54dde143a"
          }
        },
        "4b61da73ab4b48748d740b0eed7ffb52": {
          "model_module": "@jupyter-widgets/controls",
          "model_name": "HTMLModel",
          "model_module_version": "1.5.0",
          "state": {
            "_dom_classes": [],
            "_model_module": "@jupyter-widgets/controls",
            "_model_module_version": "1.5.0",
            "_model_name": "HTMLModel",
            "_view_count": null,
            "_view_module": "@jupyter-widgets/controls",
            "_view_module_version": "1.5.0",
            "_view_name": "HTMLView",
            "description": "",
            "description_tooltip": null,
            "layout": "IPY_MODEL_097dca89d1eb410791a8f74a0ef02caa",
            "placeholder": "​",
            "style": "IPY_MODEL_e4a40b83307745be9f47f54a71c9cc2d",
            "value": "Map: 100%"
          }
        },
        "2f3420051eb54ea6a5866dc287d573cd": {
          "model_module": "@jupyter-widgets/controls",
          "model_name": "FloatProgressModel",
          "model_module_version": "1.5.0",
          "state": {
            "_dom_classes": [],
            "_model_module": "@jupyter-widgets/controls",
            "_model_module_version": "1.5.0",
            "_model_name": "FloatProgressModel",
            "_view_count": null,
            "_view_module": "@jupyter-widgets/controls",
            "_view_module_version": "1.5.0",
            "_view_name": "ProgressView",
            "bar_style": "success",
            "description": "",
            "description_tooltip": null,
            "layout": "IPY_MODEL_7692be09e5374cfc845d030d0e0cb0ef",
            "max": 90,
            "min": 0,
            "orientation": "horizontal",
            "style": "IPY_MODEL_01eb60e3e562459b9c42643ab0cd3d5f",
            "value": 90
          }
        },
        "9b682a5d01864e299ba62ace4a4dd23e": {
          "model_module": "@jupyter-widgets/controls",
          "model_name": "HTMLModel",
          "model_module_version": "1.5.0",
          "state": {
            "_dom_classes": [],
            "_model_module": "@jupyter-widgets/controls",
            "_model_module_version": "1.5.0",
            "_model_name": "HTMLModel",
            "_view_count": null,
            "_view_module": "@jupyter-widgets/controls",
            "_view_module_version": "1.5.0",
            "_view_name": "HTMLView",
            "description": "",
            "description_tooltip": null,
            "layout": "IPY_MODEL_6f5059f2baa24cdbac6c4cdf0b377c86",
            "placeholder": "​",
            "style": "IPY_MODEL_e3774591b5f24f7ab119d9b551cf55a2",
            "value": " 90/90 [00:00&lt;00:00, 201.35 examples/s]"
          }
        },
        "908d1cbfb8264480992cf7f54dde143a": {
          "model_module": "@jupyter-widgets/base",
          "model_name": "LayoutModel",
          "model_module_version": "1.2.0",
          "state": {
            "_model_module": "@jupyter-widgets/base",
            "_model_module_version": "1.2.0",
            "_model_name": "LayoutModel",
            "_view_count": null,
            "_view_module": "@jupyter-widgets/base",
            "_view_module_version": "1.2.0",
            "_view_name": "LayoutView",
            "align_content": null,
            "align_items": null,
            "align_self": null,
            "border": null,
            "bottom": null,
            "display": null,
            "flex": null,
            "flex_flow": null,
            "grid_area": null,
            "grid_auto_columns": null,
            "grid_auto_flow": null,
            "grid_auto_rows": null,
            "grid_column": null,
            "grid_gap": null,
            "grid_row": null,
            "grid_template_areas": null,
            "grid_template_columns": null,
            "grid_template_rows": null,
            "height": null,
            "justify_content": null,
            "justify_items": null,
            "left": null,
            "margin": null,
            "max_height": null,
            "max_width": null,
            "min_height": null,
            "min_width": null,
            "object_fit": null,
            "object_position": null,
            "order": null,
            "overflow": null,
            "overflow_x": null,
            "overflow_y": null,
            "padding": null,
            "right": null,
            "top": null,
            "visibility": null,
            "width": null
          }
        },
        "097dca89d1eb410791a8f74a0ef02caa": {
          "model_module": "@jupyter-widgets/base",
          "model_name": "LayoutModel",
          "model_module_version": "1.2.0",
          "state": {
            "_model_module": "@jupyter-widgets/base",
            "_model_module_version": "1.2.0",
            "_model_name": "LayoutModel",
            "_view_count": null,
            "_view_module": "@jupyter-widgets/base",
            "_view_module_version": "1.2.0",
            "_view_name": "LayoutView",
            "align_content": null,
            "align_items": null,
            "align_self": null,
            "border": null,
            "bottom": null,
            "display": null,
            "flex": null,
            "flex_flow": null,
            "grid_area": null,
            "grid_auto_columns": null,
            "grid_auto_flow": null,
            "grid_auto_rows": null,
            "grid_column": null,
            "grid_gap": null,
            "grid_row": null,
            "grid_template_areas": null,
            "grid_template_columns": null,
            "grid_template_rows": null,
            "height": null,
            "justify_content": null,
            "justify_items": null,
            "left": null,
            "margin": null,
            "max_height": null,
            "max_width": null,
            "min_height": null,
            "min_width": null,
            "object_fit": null,
            "object_position": null,
            "order": null,
            "overflow": null,
            "overflow_x": null,
            "overflow_y": null,
            "padding": null,
            "right": null,
            "top": null,
            "visibility": null,
            "width": null
          }
        },
        "e4a40b83307745be9f47f54a71c9cc2d": {
          "model_module": "@jupyter-widgets/controls",
          "model_name": "DescriptionStyleModel",
          "model_module_version": "1.5.0",
          "state": {
            "_model_module": "@jupyter-widgets/controls",
            "_model_module_version": "1.5.0",
            "_model_name": "DescriptionStyleModel",
            "_view_count": null,
            "_view_module": "@jupyter-widgets/base",
            "_view_module_version": "1.2.0",
            "_view_name": "StyleView",
            "description_width": ""
          }
        },
        "7692be09e5374cfc845d030d0e0cb0ef": {
          "model_module": "@jupyter-widgets/base",
          "model_name": "LayoutModel",
          "model_module_version": "1.2.0",
          "state": {
            "_model_module": "@jupyter-widgets/base",
            "_model_module_version": "1.2.0",
            "_model_name": "LayoutModel",
            "_view_count": null,
            "_view_module": "@jupyter-widgets/base",
            "_view_module_version": "1.2.0",
            "_view_name": "LayoutView",
            "align_content": null,
            "align_items": null,
            "align_self": null,
            "border": null,
            "bottom": null,
            "display": null,
            "flex": null,
            "flex_flow": null,
            "grid_area": null,
            "grid_auto_columns": null,
            "grid_auto_flow": null,
            "grid_auto_rows": null,
            "grid_column": null,
            "grid_gap": null,
            "grid_row": null,
            "grid_template_areas": null,
            "grid_template_columns": null,
            "grid_template_rows": null,
            "height": null,
            "justify_content": null,
            "justify_items": null,
            "left": null,
            "margin": null,
            "max_height": null,
            "max_width": null,
            "min_height": null,
            "min_width": null,
            "object_fit": null,
            "object_position": null,
            "order": null,
            "overflow": null,
            "overflow_x": null,
            "overflow_y": null,
            "padding": null,
            "right": null,
            "top": null,
            "visibility": null,
            "width": null
          }
        },
        "01eb60e3e562459b9c42643ab0cd3d5f": {
          "model_module": "@jupyter-widgets/controls",
          "model_name": "ProgressStyleModel",
          "model_module_version": "1.5.0",
          "state": {
            "_model_module": "@jupyter-widgets/controls",
            "_model_module_version": "1.5.0",
            "_model_name": "ProgressStyleModel",
            "_view_count": null,
            "_view_module": "@jupyter-widgets/base",
            "_view_module_version": "1.2.0",
            "_view_name": "StyleView",
            "bar_color": null,
            "description_width": ""
          }
        },
        "6f5059f2baa24cdbac6c4cdf0b377c86": {
          "model_module": "@jupyter-widgets/base",
          "model_name": "LayoutModel",
          "model_module_version": "1.2.0",
          "state": {
            "_model_module": "@jupyter-widgets/base",
            "_model_module_version": "1.2.0",
            "_model_name": "LayoutModel",
            "_view_count": null,
            "_view_module": "@jupyter-widgets/base",
            "_view_module_version": "1.2.0",
            "_view_name": "LayoutView",
            "align_content": null,
            "align_items": null,
            "align_self": null,
            "border": null,
            "bottom": null,
            "display": null,
            "flex": null,
            "flex_flow": null,
            "grid_area": null,
            "grid_auto_columns": null,
            "grid_auto_flow": null,
            "grid_auto_rows": null,
            "grid_column": null,
            "grid_gap": null,
            "grid_row": null,
            "grid_template_areas": null,
            "grid_template_columns": null,
            "grid_template_rows": null,
            "height": null,
            "justify_content": null,
            "justify_items": null,
            "left": null,
            "margin": null,
            "max_height": null,
            "max_width": null,
            "min_height": null,
            "min_width": null,
            "object_fit": null,
            "object_position": null,
            "order": null,
            "overflow": null,
            "overflow_x": null,
            "overflow_y": null,
            "padding": null,
            "right": null,
            "top": null,
            "visibility": null,
            "width": null
          }
        },
        "e3774591b5f24f7ab119d9b551cf55a2": {
          "model_module": "@jupyter-widgets/controls",
          "model_name": "DescriptionStyleModel",
          "model_module_version": "1.5.0",
          "state": {
            "_model_module": "@jupyter-widgets/controls",
            "_model_module_version": "1.5.0",
            "_model_name": "DescriptionStyleModel",
            "_view_count": null,
            "_view_module": "@jupyter-widgets/base",
            "_view_module_version": "1.2.0",
            "_view_name": "StyleView",
            "description_width": ""
          }
        },
        "e43686657e8d46e09f08607b8f12101e": {
          "model_module": "@jupyter-widgets/controls",
          "model_name": "HBoxModel",
          "model_module_version": "1.5.0",
          "state": {
            "_dom_classes": [],
            "_model_module": "@jupyter-widgets/controls",
            "_model_module_version": "1.5.0",
            "_model_name": "HBoxModel",
            "_view_count": null,
            "_view_module": "@jupyter-widgets/controls",
            "_view_module_version": "1.5.0",
            "_view_name": "HBoxView",
            "box_style": "",
            "children": [
              "IPY_MODEL_da76398bf9754874b196642d514581d8",
              "IPY_MODEL_4c10fc99cac1442fbfaa908ef5f501a0",
              "IPY_MODEL_83b9775d71564daaad8bd21eb4ee3f2d"
            ],
            "layout": "IPY_MODEL_a193f9bcd9244c47b60864e66776643a"
          }
        },
        "da76398bf9754874b196642d514581d8": {
          "model_module": "@jupyter-widgets/controls",
          "model_name": "HTMLModel",
          "model_module_version": "1.5.0",
          "state": {
            "_dom_classes": [],
            "_model_module": "@jupyter-widgets/controls",
            "_model_module_version": "1.5.0",
            "_model_name": "HTMLModel",
            "_view_count": null,
            "_view_module": "@jupyter-widgets/controls",
            "_view_module_version": "1.5.0",
            "_view_name": "HTMLView",
            "description": "",
            "description_tooltip": null,
            "layout": "IPY_MODEL_fbe16fcdd15e4b55b08e09e35487a974",
            "placeholder": "​",
            "style": "IPY_MODEL_cc68d51bfec64c9cbb04b2f6ceb679f4",
            "value": "Map: 100%"
          }
        },
        "4c10fc99cac1442fbfaa908ef5f501a0": {
          "model_module": "@jupyter-widgets/controls",
          "model_name": "FloatProgressModel",
          "model_module_version": "1.5.0",
          "state": {
            "_dom_classes": [],
            "_model_module": "@jupyter-widgets/controls",
            "_model_module_version": "1.5.0",
            "_model_name": "FloatProgressModel",
            "_view_count": null,
            "_view_module": "@jupyter-widgets/controls",
            "_view_module_version": "1.5.0",
            "_view_name": "ProgressView",
            "bar_style": "success",
            "description": "",
            "description_tooltip": null,
            "layout": "IPY_MODEL_9c753bb12b7842f9bf294b0680ba12d8",
            "max": 10,
            "min": 0,
            "orientation": "horizontal",
            "style": "IPY_MODEL_78773969fcb54b79a6ff1dd0971c21ac",
            "value": 10
          }
        },
        "83b9775d71564daaad8bd21eb4ee3f2d": {
          "model_module": "@jupyter-widgets/controls",
          "model_name": "HTMLModel",
          "model_module_version": "1.5.0",
          "state": {
            "_dom_classes": [],
            "_model_module": "@jupyter-widgets/controls",
            "_model_module_version": "1.5.0",
            "_model_name": "HTMLModel",
            "_view_count": null,
            "_view_module": "@jupyter-widgets/controls",
            "_view_module_version": "1.5.0",
            "_view_name": "HTMLView",
            "description": "",
            "description_tooltip": null,
            "layout": "IPY_MODEL_07e177fcb25946eaab5f5a48d6a0fdb7",
            "placeholder": "​",
            "style": "IPY_MODEL_56fc33ef832d46a09397c13eac6ad68f",
            "value": " 10/10 [00:00&lt;00:00, 99.23 examples/s]"
          }
        },
        "a193f9bcd9244c47b60864e66776643a": {
          "model_module": "@jupyter-widgets/base",
          "model_name": "LayoutModel",
          "model_module_version": "1.2.0",
          "state": {
            "_model_module": "@jupyter-widgets/base",
            "_model_module_version": "1.2.0",
            "_model_name": "LayoutModel",
            "_view_count": null,
            "_view_module": "@jupyter-widgets/base",
            "_view_module_version": "1.2.0",
            "_view_name": "LayoutView",
            "align_content": null,
            "align_items": null,
            "align_self": null,
            "border": null,
            "bottom": null,
            "display": null,
            "flex": null,
            "flex_flow": null,
            "grid_area": null,
            "grid_auto_columns": null,
            "grid_auto_flow": null,
            "grid_auto_rows": null,
            "grid_column": null,
            "grid_gap": null,
            "grid_row": null,
            "grid_template_areas": null,
            "grid_template_columns": null,
            "grid_template_rows": null,
            "height": null,
            "justify_content": null,
            "justify_items": null,
            "left": null,
            "margin": null,
            "max_height": null,
            "max_width": null,
            "min_height": null,
            "min_width": null,
            "object_fit": null,
            "object_position": null,
            "order": null,
            "overflow": null,
            "overflow_x": null,
            "overflow_y": null,
            "padding": null,
            "right": null,
            "top": null,
            "visibility": null,
            "width": null
          }
        },
        "fbe16fcdd15e4b55b08e09e35487a974": {
          "model_module": "@jupyter-widgets/base",
          "model_name": "LayoutModel",
          "model_module_version": "1.2.0",
          "state": {
            "_model_module": "@jupyter-widgets/base",
            "_model_module_version": "1.2.0",
            "_model_name": "LayoutModel",
            "_view_count": null,
            "_view_module": "@jupyter-widgets/base",
            "_view_module_version": "1.2.0",
            "_view_name": "LayoutView",
            "align_content": null,
            "align_items": null,
            "align_self": null,
            "border": null,
            "bottom": null,
            "display": null,
            "flex": null,
            "flex_flow": null,
            "grid_area": null,
            "grid_auto_columns": null,
            "grid_auto_flow": null,
            "grid_auto_rows": null,
            "grid_column": null,
            "grid_gap": null,
            "grid_row": null,
            "grid_template_areas": null,
            "grid_template_columns": null,
            "grid_template_rows": null,
            "height": null,
            "justify_content": null,
            "justify_items": null,
            "left": null,
            "margin": null,
            "max_height": null,
            "max_width": null,
            "min_height": null,
            "min_width": null,
            "object_fit": null,
            "object_position": null,
            "order": null,
            "overflow": null,
            "overflow_x": null,
            "overflow_y": null,
            "padding": null,
            "right": null,
            "top": null,
            "visibility": null,
            "width": null
          }
        },
        "cc68d51bfec64c9cbb04b2f6ceb679f4": {
          "model_module": "@jupyter-widgets/controls",
          "model_name": "DescriptionStyleModel",
          "model_module_version": "1.5.0",
          "state": {
            "_model_module": "@jupyter-widgets/controls",
            "_model_module_version": "1.5.0",
            "_model_name": "DescriptionStyleModel",
            "_view_count": null,
            "_view_module": "@jupyter-widgets/base",
            "_view_module_version": "1.2.0",
            "_view_name": "StyleView",
            "description_width": ""
          }
        },
        "9c753bb12b7842f9bf294b0680ba12d8": {
          "model_module": "@jupyter-widgets/base",
          "model_name": "LayoutModel",
          "model_module_version": "1.2.0",
          "state": {
            "_model_module": "@jupyter-widgets/base",
            "_model_module_version": "1.2.0",
            "_model_name": "LayoutModel",
            "_view_count": null,
            "_view_module": "@jupyter-widgets/base",
            "_view_module_version": "1.2.0",
            "_view_name": "LayoutView",
            "align_content": null,
            "align_items": null,
            "align_self": null,
            "border": null,
            "bottom": null,
            "display": null,
            "flex": null,
            "flex_flow": null,
            "grid_area": null,
            "grid_auto_columns": null,
            "grid_auto_flow": null,
            "grid_auto_rows": null,
            "grid_column": null,
            "grid_gap": null,
            "grid_row": null,
            "grid_template_areas": null,
            "grid_template_columns": null,
            "grid_template_rows": null,
            "height": null,
            "justify_content": null,
            "justify_items": null,
            "left": null,
            "margin": null,
            "max_height": null,
            "max_width": null,
            "min_height": null,
            "min_width": null,
            "object_fit": null,
            "object_position": null,
            "order": null,
            "overflow": null,
            "overflow_x": null,
            "overflow_y": null,
            "padding": null,
            "right": null,
            "top": null,
            "visibility": null,
            "width": null
          }
        },
        "78773969fcb54b79a6ff1dd0971c21ac": {
          "model_module": "@jupyter-widgets/controls",
          "model_name": "ProgressStyleModel",
          "model_module_version": "1.5.0",
          "state": {
            "_model_module": "@jupyter-widgets/controls",
            "_model_module_version": "1.5.0",
            "_model_name": "ProgressStyleModel",
            "_view_count": null,
            "_view_module": "@jupyter-widgets/base",
            "_view_module_version": "1.2.0",
            "_view_name": "StyleView",
            "bar_color": null,
            "description_width": ""
          }
        },
        "07e177fcb25946eaab5f5a48d6a0fdb7": {
          "model_module": "@jupyter-widgets/base",
          "model_name": "LayoutModel",
          "model_module_version": "1.2.0",
          "state": {
            "_model_module": "@jupyter-widgets/base",
            "_model_module_version": "1.2.0",
            "_model_name": "LayoutModel",
            "_view_count": null,
            "_view_module": "@jupyter-widgets/base",
            "_view_module_version": "1.2.0",
            "_view_name": "LayoutView",
            "align_content": null,
            "align_items": null,
            "align_self": null,
            "border": null,
            "bottom": null,
            "display": null,
            "flex": null,
            "flex_flow": null,
            "grid_area": null,
            "grid_auto_columns": null,
            "grid_auto_flow": null,
            "grid_auto_rows": null,
            "grid_column": null,
            "grid_gap": null,
            "grid_row": null,
            "grid_template_areas": null,
            "grid_template_columns": null,
            "grid_template_rows": null,
            "height": null,
            "justify_content": null,
            "justify_items": null,
            "left": null,
            "margin": null,
            "max_height": null,
            "max_width": null,
            "min_height": null,
            "min_width": null,
            "object_fit": null,
            "object_position": null,
            "order": null,
            "overflow": null,
            "overflow_x": null,
            "overflow_y": null,
            "padding": null,
            "right": null,
            "top": null,
            "visibility": null,
            "width": null
          }
        },
        "56fc33ef832d46a09397c13eac6ad68f": {
          "model_module": "@jupyter-widgets/controls",
          "model_name": "DescriptionStyleModel",
          "model_module_version": "1.5.0",
          "state": {
            "_model_module": "@jupyter-widgets/controls",
            "_model_module_version": "1.5.0",
            "_model_name": "DescriptionStyleModel",
            "_view_count": null,
            "_view_module": "@jupyter-widgets/base",
            "_view_module_version": "1.2.0",
            "_view_name": "StyleView",
            "description_width": ""
          }
        }
      }
    }
  },
  "cells": [
    {
      "cell_type": "markdown",
      "metadata": {
        "id": "view-in-github",
        "colab_type": "text"
      },
      "source": [
        "<a href=\"https://colab.research.google.com/github/lukriste/Baigiamasis/blob/lenteles_tvarkymas/modelioT5_treniravimas.ipynb\" target=\"_parent\"><img src=\"https://colab.research.google.com/assets/colab-badge.svg\" alt=\"Open In Colab\"/></a>"
      ]
    },
    {
      "cell_type": "markdown",
      "source": [
        "Paruošimas"
      ],
      "metadata": {
        "id": "hYZBeDikS0sL"
      }
    },
    {
      "cell_type": "code",
      "source": [
        "from google.colab import files\n",
        "uploaded = files.upload()"
      ],
      "metadata": {
        "colab": {
          "base_uri": "https://localhost:8080/",
          "height": 73
        },
        "id": "bUyQqA1PRAyH",
        "outputId": "23826361-34ac-4e33-b111-44ace53a1584"
      },
      "execution_count": 15,
      "outputs": [
        {
          "output_type": "display_data",
          "data": {
            "text/plain": [
              "<IPython.core.display.HTML object>"
            ],
            "text/html": [
              "\n",
              "     <input type=\"file\" id=\"files-52ad3617-a4fc-461a-a032-d58368a3090a\" name=\"files[]\" multiple disabled\n",
              "        style=\"border:none\" />\n",
              "     <output id=\"result-52ad3617-a4fc-461a-a032-d58368a3090a\">\n",
              "      Upload widget is only available when the cell has been executed in the\n",
              "      current browser session. Please rerun this cell to enable.\n",
              "      </output>\n",
              "      <script>// Copyright 2017 Google LLC\n",
              "//\n",
              "// Licensed under the Apache License, Version 2.0 (the \"License\");\n",
              "// you may not use this file except in compliance with the License.\n",
              "// You may obtain a copy of the License at\n",
              "//\n",
              "//      http://www.apache.org/licenses/LICENSE-2.0\n",
              "//\n",
              "// Unless required by applicable law or agreed to in writing, software\n",
              "// distributed under the License is distributed on an \"AS IS\" BASIS,\n",
              "// WITHOUT WARRANTIES OR CONDITIONS OF ANY KIND, either express or implied.\n",
              "// See the License for the specific language governing permissions and\n",
              "// limitations under the License.\n",
              "\n",
              "/**\n",
              " * @fileoverview Helpers for google.colab Python module.\n",
              " */\n",
              "(function(scope) {\n",
              "function span(text, styleAttributes = {}) {\n",
              "  const element = document.createElement('span');\n",
              "  element.textContent = text;\n",
              "  for (const key of Object.keys(styleAttributes)) {\n",
              "    element.style[key] = styleAttributes[key];\n",
              "  }\n",
              "  return element;\n",
              "}\n",
              "\n",
              "// Max number of bytes which will be uploaded at a time.\n",
              "const MAX_PAYLOAD_SIZE = 100 * 1024;\n",
              "\n",
              "function _uploadFiles(inputId, outputId) {\n",
              "  const steps = uploadFilesStep(inputId, outputId);\n",
              "  const outputElement = document.getElementById(outputId);\n",
              "  // Cache steps on the outputElement to make it available for the next call\n",
              "  // to uploadFilesContinue from Python.\n",
              "  outputElement.steps = steps;\n",
              "\n",
              "  return _uploadFilesContinue(outputId);\n",
              "}\n",
              "\n",
              "// This is roughly an async generator (not supported in the browser yet),\n",
              "// where there are multiple asynchronous steps and the Python side is going\n",
              "// to poll for completion of each step.\n",
              "// This uses a Promise to block the python side on completion of each step,\n",
              "// then passes the result of the previous step as the input to the next step.\n",
              "function _uploadFilesContinue(outputId) {\n",
              "  const outputElement = document.getElementById(outputId);\n",
              "  const steps = outputElement.steps;\n",
              "\n",
              "  const next = steps.next(outputElement.lastPromiseValue);\n",
              "  return Promise.resolve(next.value.promise).then((value) => {\n",
              "    // Cache the last promise value to make it available to the next\n",
              "    // step of the generator.\n",
              "    outputElement.lastPromiseValue = value;\n",
              "    return next.value.response;\n",
              "  });\n",
              "}\n",
              "\n",
              "/**\n",
              " * Generator function which is called between each async step of the upload\n",
              " * process.\n",
              " * @param {string} inputId Element ID of the input file picker element.\n",
              " * @param {string} outputId Element ID of the output display.\n",
              " * @return {!Iterable<!Object>} Iterable of next steps.\n",
              " */\n",
              "function* uploadFilesStep(inputId, outputId) {\n",
              "  const inputElement = document.getElementById(inputId);\n",
              "  inputElement.disabled = false;\n",
              "\n",
              "  const outputElement = document.getElementById(outputId);\n",
              "  outputElement.innerHTML = '';\n",
              "\n",
              "  const pickedPromise = new Promise((resolve) => {\n",
              "    inputElement.addEventListener('change', (e) => {\n",
              "      resolve(e.target.files);\n",
              "    });\n",
              "  });\n",
              "\n",
              "  const cancel = document.createElement('button');\n",
              "  inputElement.parentElement.appendChild(cancel);\n",
              "  cancel.textContent = 'Cancel upload';\n",
              "  const cancelPromise = new Promise((resolve) => {\n",
              "    cancel.onclick = () => {\n",
              "      resolve(null);\n",
              "    };\n",
              "  });\n",
              "\n",
              "  // Wait for the user to pick the files.\n",
              "  const files = yield {\n",
              "    promise: Promise.race([pickedPromise, cancelPromise]),\n",
              "    response: {\n",
              "      action: 'starting',\n",
              "    }\n",
              "  };\n",
              "\n",
              "  cancel.remove();\n",
              "\n",
              "  // Disable the input element since further picks are not allowed.\n",
              "  inputElement.disabled = true;\n",
              "\n",
              "  if (!files) {\n",
              "    return {\n",
              "      response: {\n",
              "        action: 'complete',\n",
              "      }\n",
              "    };\n",
              "  }\n",
              "\n",
              "  for (const file of files) {\n",
              "    const li = document.createElement('li');\n",
              "    li.append(span(file.name, {fontWeight: 'bold'}));\n",
              "    li.append(span(\n",
              "        `(${file.type || 'n/a'}) - ${file.size} bytes, ` +\n",
              "        `last modified: ${\n",
              "            file.lastModifiedDate ? file.lastModifiedDate.toLocaleDateString() :\n",
              "                                    'n/a'} - `));\n",
              "    const percent = span('0% done');\n",
              "    li.appendChild(percent);\n",
              "\n",
              "    outputElement.appendChild(li);\n",
              "\n",
              "    const fileDataPromise = new Promise((resolve) => {\n",
              "      const reader = new FileReader();\n",
              "      reader.onload = (e) => {\n",
              "        resolve(e.target.result);\n",
              "      };\n",
              "      reader.readAsArrayBuffer(file);\n",
              "    });\n",
              "    // Wait for the data to be ready.\n",
              "    let fileData = yield {\n",
              "      promise: fileDataPromise,\n",
              "      response: {\n",
              "        action: 'continue',\n",
              "      }\n",
              "    };\n",
              "\n",
              "    // Use a chunked sending to avoid message size limits. See b/62115660.\n",
              "    let position = 0;\n",
              "    do {\n",
              "      const length = Math.min(fileData.byteLength - position, MAX_PAYLOAD_SIZE);\n",
              "      const chunk = new Uint8Array(fileData, position, length);\n",
              "      position += length;\n",
              "\n",
              "      const base64 = btoa(String.fromCharCode.apply(null, chunk));\n",
              "      yield {\n",
              "        response: {\n",
              "          action: 'append',\n",
              "          file: file.name,\n",
              "          data: base64,\n",
              "        },\n",
              "      };\n",
              "\n",
              "      let percentDone = fileData.byteLength === 0 ?\n",
              "          100 :\n",
              "          Math.round((position / fileData.byteLength) * 100);\n",
              "      percent.textContent = `${percentDone}% done`;\n",
              "\n",
              "    } while (position < fileData.byteLength);\n",
              "  }\n",
              "\n",
              "  // All done.\n",
              "  yield {\n",
              "    response: {\n",
              "      action: 'complete',\n",
              "    }\n",
              "  };\n",
              "}\n",
              "\n",
              "scope.google = scope.google || {};\n",
              "scope.google.colab = scope.google.colab || {};\n",
              "scope.google.colab._files = {\n",
              "  _uploadFiles,\n",
              "  _uploadFilesContinue,\n",
              "};\n",
              "})(self);\n",
              "</script> "
            ]
          },
          "metadata": {}
        },
        {
          "output_type": "stream",
          "name": "stdout",
          "text": [
            "Saving naujas_gnm.xlsx to naujas_gnm (1).xlsx\n"
          ]
        }
      ]
    },
    {
      "cell_type": "code",
      "source": [
        "df = pd.read_excel(\"naujas_gnm.xlsx\")"
      ],
      "metadata": {
        "id": "Dc5ayLyCRB5I"
      },
      "execution_count": 16,
      "outputs": []
    },
    {
      "cell_type": "code",
      "source": [
        "import pandas as pd\n",
        "from sqlalchemy import create_engine\n",
        "import re"
      ],
      "metadata": {
        "id": "uIlJwWr6RZO_"
      },
      "execution_count": 24,
      "outputs": []
    },
    {
      "cell_type": "code",
      "execution_count": 45,
      "metadata": {
        "id": "bJqvhUiPNAV0"
      },
      "outputs": [],
      "source": [
        "\n",
        "df = df.rename(columns={\n",
        "    \"Siptomas\": \"simptomas\",\n",
        "    \"Input/situacija\": \"ivestis\",\n",
        "    \"Output/GNM_interpretacija\": \"isvestis\"\n",
        "})\n",
        "\n",
        "def normalizuoti_teksta(tekstas):\n",
        "    if pd.isna(tekstas):\n",
        "        return \"\"\n",
        "    tekstas = str(tekstas).strip()\n",
        "    if tekstas.startswith('\"') and tekstas.endswith('\"'):\n",
        "        tekstas = tekstas[1:-1]\n",
        "    tekstas = tekstas.replace(\"“\", '\"').replace(\"”\", '\"').replace(\"„\", '\"')\n",
        "    tekstas = tekstas.replace(\"‘\", \"'\").replace(\"’\", \"'\")\n",
        "    tekstas = tekstas.replace(\"–\", \"-\").replace(\"—\", \"-\")\n",
        "    tekstas = tekstas.replace(\"\\\\\", \"/\")\n",
        "\n",
        "    if tekstas.startswith('\"'):\n",
        "        tekstas = tekstas[1:]\n",
        "    if tekstas.endswith('\"'):\n",
        "        tekstas = tekstas[:-1]\n",
        "\n",
        "    tekstas = re.sub(r\"[\\r\\n\\t]\", \" \", tekstas)\n",
        "    tekstas = re.sub(r\"\\s{2,}\", \" \", tekstas)\n",
        "    tekstas = re.sub(r\"\\s+([.,;!?()])\", r\"\\1\", tekstas)\n",
        "    return tekstas\n",
        "\n",
        "df[\"simptomas\"] = df[\"simptomas\"].apply(lambda x: normalizuoti_teksta(x).lower())\n",
        "df[\"ivestis\"] = df[\"ivestis\"].apply(lambda x: normalizuoti_teksta(x).lower())\n",
        "df[\"isvestis\"] = df[\"isvestis\"].apply(normalizuoti_teksta)\n",
        "\n",
        "df[\"ivestis\"] = \"simptomas: \" + df[\"simptomas\"] + \". \" + df[\"ivestis\"]"
      ]
    },
    {
      "cell_type": "markdown",
      "source": [],
      "metadata": {
        "id": "RB7Dbr1SOkBi"
      }
    },
    {
      "cell_type": "code",
      "source": [
        "!pip install transformers datasets sentencepiece"
      ],
      "metadata": {
        "colab": {
          "base_uri": "https://localhost:8080/"
        },
        "id": "bfhdcDXDOaaZ",
        "outputId": "13180df6-b269-47db-fa66-80dbc0179f88"
      },
      "execution_count": 46,
      "outputs": [
        {
          "output_type": "stream",
          "name": "stdout",
          "text": [
            "Requirement already satisfied: transformers in /usr/local/lib/python3.11/dist-packages (4.51.3)\n",
            "Requirement already satisfied: datasets in /usr/local/lib/python3.11/dist-packages (3.6.0)\n",
            "Requirement already satisfied: sentencepiece in /usr/local/lib/python3.11/dist-packages (0.2.0)\n",
            "Requirement already satisfied: filelock in /usr/local/lib/python3.11/dist-packages (from transformers) (3.18.0)\n",
            "Requirement already satisfied: huggingface-hub<1.0,>=0.30.0 in /usr/local/lib/python3.11/dist-packages (from transformers) (0.30.2)\n",
            "Requirement already satisfied: numpy>=1.17 in /usr/local/lib/python3.11/dist-packages (from transformers) (2.0.2)\n",
            "Requirement already satisfied: packaging>=20.0 in /usr/local/lib/python3.11/dist-packages (from transformers) (24.2)\n",
            "Requirement already satisfied: pyyaml>=5.1 in /usr/local/lib/python3.11/dist-packages (from transformers) (6.0.2)\n",
            "Requirement already satisfied: regex!=2019.12.17 in /usr/local/lib/python3.11/dist-packages (from transformers) (2024.11.6)\n",
            "Requirement already satisfied: requests in /usr/local/lib/python3.11/dist-packages (from transformers) (2.32.3)\n",
            "Requirement already satisfied: tokenizers<0.22,>=0.21 in /usr/local/lib/python3.11/dist-packages (from transformers) (0.21.1)\n",
            "Requirement already satisfied: safetensors>=0.4.3 in /usr/local/lib/python3.11/dist-packages (from transformers) (0.5.3)\n",
            "Requirement already satisfied: tqdm>=4.27 in /usr/local/lib/python3.11/dist-packages (from transformers) (4.67.1)\n",
            "Requirement already satisfied: pyarrow>=15.0.0 in /usr/local/lib/python3.11/dist-packages (from datasets) (18.1.0)\n",
            "Requirement already satisfied: dill<0.3.9,>=0.3.0 in /usr/local/lib/python3.11/dist-packages (from datasets) (0.3.8)\n",
            "Requirement already satisfied: pandas in /usr/local/lib/python3.11/dist-packages (from datasets) (2.2.2)\n",
            "Requirement already satisfied: xxhash in /usr/local/lib/python3.11/dist-packages (from datasets) (3.5.0)\n",
            "Requirement already satisfied: multiprocess<0.70.17 in /usr/local/lib/python3.11/dist-packages (from datasets) (0.70.16)\n",
            "Requirement already satisfied: fsspec<=2025.3.0,>=2023.1.0 in /usr/local/lib/python3.11/dist-packages (from fsspec[http]<=2025.3.0,>=2023.1.0->datasets) (2025.3.0)\n",
            "Requirement already satisfied: aiohttp!=4.0.0a0,!=4.0.0a1 in /usr/local/lib/python3.11/dist-packages (from fsspec[http]<=2025.3.0,>=2023.1.0->datasets) (3.11.15)\n",
            "Requirement already satisfied: typing-extensions>=3.7.4.3 in /usr/local/lib/python3.11/dist-packages (from huggingface-hub<1.0,>=0.30.0->transformers) (4.13.2)\n",
            "Requirement already satisfied: charset-normalizer<4,>=2 in /usr/local/lib/python3.11/dist-packages (from requests->transformers) (3.4.1)\n",
            "Requirement already satisfied: idna<4,>=2.5 in /usr/local/lib/python3.11/dist-packages (from requests->transformers) (3.10)\n",
            "Requirement already satisfied: urllib3<3,>=1.21.1 in /usr/local/lib/python3.11/dist-packages (from requests->transformers) (2.4.0)\n",
            "Requirement already satisfied: certifi>=2017.4.17 in /usr/local/lib/python3.11/dist-packages (from requests->transformers) (2025.4.26)\n",
            "Requirement already satisfied: python-dateutil>=2.8.2 in /usr/local/lib/python3.11/dist-packages (from pandas->datasets) (2.9.0.post0)\n",
            "Requirement already satisfied: pytz>=2020.1 in /usr/local/lib/python3.11/dist-packages (from pandas->datasets) (2025.2)\n",
            "Requirement already satisfied: tzdata>=2022.7 in /usr/local/lib/python3.11/dist-packages (from pandas->datasets) (2025.2)\n",
            "Requirement already satisfied: aiohappyeyeballs>=2.3.0 in /usr/local/lib/python3.11/dist-packages (from aiohttp!=4.0.0a0,!=4.0.0a1->fsspec[http]<=2025.3.0,>=2023.1.0->datasets) (2.6.1)\n",
            "Requirement already satisfied: aiosignal>=1.1.2 in /usr/local/lib/python3.11/dist-packages (from aiohttp!=4.0.0a0,!=4.0.0a1->fsspec[http]<=2025.3.0,>=2023.1.0->datasets) (1.3.2)\n",
            "Requirement already satisfied: attrs>=17.3.0 in /usr/local/lib/python3.11/dist-packages (from aiohttp!=4.0.0a0,!=4.0.0a1->fsspec[http]<=2025.3.0,>=2023.1.0->datasets) (25.3.0)\n",
            "Requirement already satisfied: frozenlist>=1.1.1 in /usr/local/lib/python3.11/dist-packages (from aiohttp!=4.0.0a0,!=4.0.0a1->fsspec[http]<=2025.3.0,>=2023.1.0->datasets) (1.6.0)\n",
            "Requirement already satisfied: multidict<7.0,>=4.5 in /usr/local/lib/python3.11/dist-packages (from aiohttp!=4.0.0a0,!=4.0.0a1->fsspec[http]<=2025.3.0,>=2023.1.0->datasets) (6.4.3)\n",
            "Requirement already satisfied: propcache>=0.2.0 in /usr/local/lib/python3.11/dist-packages (from aiohttp!=4.0.0a0,!=4.0.0a1->fsspec[http]<=2025.3.0,>=2023.1.0->datasets) (0.3.1)\n",
            "Requirement already satisfied: yarl<2.0,>=1.17.0 in /usr/local/lib/python3.11/dist-packages (from aiohttp!=4.0.0a0,!=4.0.0a1->fsspec[http]<=2025.3.0,>=2023.1.0->datasets) (1.20.0)\n",
            "Requirement already satisfied: six>=1.5 in /usr/local/lib/python3.11/dist-packages (from python-dateutil>=2.8.2->pandas->datasets) (1.17.0)\n"
          ]
        }
      ]
    },
    {
      "cell_type": "code",
      "source": [
        "!pip install openpyxl pymysql sqlalchemy"
      ],
      "metadata": {
        "colab": {
          "base_uri": "https://localhost:8080/"
        },
        "id": "EsARxQbeOo2I",
        "outputId": "487a74ab-e092-45f5-89bc-5504a15499bc"
      },
      "execution_count": 47,
      "outputs": [
        {
          "output_type": "stream",
          "name": "stdout",
          "text": [
            "Requirement already satisfied: openpyxl in /usr/local/lib/python3.11/dist-packages (3.1.5)\n",
            "Requirement already satisfied: pymysql in /usr/local/lib/python3.11/dist-packages (1.1.1)\n",
            "Requirement already satisfied: sqlalchemy in /usr/local/lib/python3.11/dist-packages (2.0.40)\n",
            "Requirement already satisfied: et-xmlfile in /usr/local/lib/python3.11/dist-packages (from openpyxl) (2.0.0)\n",
            "Requirement already satisfied: greenlet>=1 in /usr/local/lib/python3.11/dist-packages (from sqlalchemy) (3.2.1)\n",
            "Requirement already satisfied: typing-extensions>=4.6.0 in /usr/local/lib/python3.11/dist-packages (from sqlalchemy) (4.13.2)\n"
          ]
        }
      ]
    },
    {
      "cell_type": "markdown",
      "source": [],
      "metadata": {
        "id": "MDJVzjunSwIr"
      }
    },
    {
      "cell_type": "code",
      "source": [
        "from datasets import Dataset\n",
        "from sklearn.model_selection import train_test_split\n",
        "\n",
        "train_df, test_df = train_test_split(df, test_size=0.1, random_state=42)\n",
        "train_dataset = Dataset.from_pandas(train_df)\n",
        "test_dataset = Dataset.from_pandas(test_df)"
      ],
      "metadata": {
        "id": "51QFLEAJQLCI"
      },
      "execution_count": 48,
      "outputs": []
    },
    {
      "cell_type": "markdown",
      "source": [
        "Tokenizavimo funkcija"
      ],
      "metadata": {
        "id": "m1-3UAxnSw8w"
      }
    },
    {
      "cell_type": "code",
      "source": [
        "from transformers import T5Tokenizer, TFAutoModelForSeq2SeqLM\n",
        "import tensorflow as tf\n",
        "\n",
        "model_name = \"t5-small\"\n",
        "tokenizer = T5Tokenizer.from_pretrained(model_name)"
      ],
      "metadata": {
        "id": "xHab2HYjQO6m"
      },
      "execution_count": 49,
      "outputs": []
    },
    {
      "cell_type": "code",
      "source": [
        "def tokenize_function(example):\n",
        "    input_enc = tokenizer(example[\"ivestis\"], padding=\"max_length\", truncation=True, max_length=128)\n",
        "    output_enc = tokenizer(example[\"isvestis\"], padding=\"max_length\", truncation=True, max_length=128)\n",
        "    input_enc[\"labels\"] = output_enc[\"input_ids\"]\n",
        "    return input_enc\n",
        "\n",
        "train_tokenized = train_dataset.map(tokenize_function)\n",
        "test_tokenized = test_dataset.map(tokenize_function)\n"
      ],
      "metadata": {
        "colab": {
          "base_uri": "https://localhost:8080/",
          "height": 81,
          "referenced_widgets": [
            "05d630dc810b45dda5ccea8db1813427",
            "4b61da73ab4b48748d740b0eed7ffb52",
            "2f3420051eb54ea6a5866dc287d573cd",
            "9b682a5d01864e299ba62ace4a4dd23e",
            "908d1cbfb8264480992cf7f54dde143a",
            "097dca89d1eb410791a8f74a0ef02caa",
            "e4a40b83307745be9f47f54a71c9cc2d",
            "7692be09e5374cfc845d030d0e0cb0ef",
            "01eb60e3e562459b9c42643ab0cd3d5f",
            "6f5059f2baa24cdbac6c4cdf0b377c86",
            "e3774591b5f24f7ab119d9b551cf55a2",
            "e43686657e8d46e09f08607b8f12101e",
            "da76398bf9754874b196642d514581d8",
            "4c10fc99cac1442fbfaa908ef5f501a0",
            "83b9775d71564daaad8bd21eb4ee3f2d",
            "a193f9bcd9244c47b60864e66776643a",
            "fbe16fcdd15e4b55b08e09e35487a974",
            "cc68d51bfec64c9cbb04b2f6ceb679f4",
            "9c753bb12b7842f9bf294b0680ba12d8",
            "78773969fcb54b79a6ff1dd0971c21ac",
            "07e177fcb25946eaab5f5a48d6a0fdb7",
            "56fc33ef832d46a09397c13eac6ad68f"
          ]
        },
        "id": "Rx7bUFX2QTDH",
        "outputId": "06417c7b-0045-4d59-8ee8-1321c62cffa0"
      },
      "execution_count": 50,
      "outputs": [
        {
          "output_type": "display_data",
          "data": {
            "text/plain": [
              "Map:   0%|          | 0/90 [00:00<?, ? examples/s]"
            ],
            "application/vnd.jupyter.widget-view+json": {
              "version_major": 2,
              "version_minor": 0,
              "model_id": "05d630dc810b45dda5ccea8db1813427"
            }
          },
          "metadata": {}
        },
        {
          "output_type": "display_data",
          "data": {
            "text/plain": [
              "Map:   0%|          | 0/10 [00:00<?, ? examples/s]"
            ],
            "application/vnd.jupyter.widget-view+json": {
              "version_major": 2,
              "version_minor": 0,
              "model_id": "e43686657e8d46e09f08607b8f12101e"
            }
          },
          "metadata": {}
        }
      ]
    },
    {
      "cell_type": "markdown",
      "source": [
        "TF dataset paruošimas"
      ],
      "metadata": {
        "id": "qUxeqVRQSo45"
      }
    },
    {
      "cell_type": "code",
      "source": [
        "train_set = train_tokenized.to_tf_dataset(\n",
        "    columns=[\"input_ids\", \"attention_mask\"],\n",
        "    label_cols=[\"labels\"],\n",
        "    shuffle=True,\n",
        "    batch_size=8,\n",
        ")\n",
        "\n",
        "val_set = test_tokenized.to_tf_dataset(\n",
        "    columns=[\"input_ids\", \"attention_mask\"],\n",
        "    label_cols=[\"labels\"],\n",
        "    shuffle=False,\n",
        "    batch_size=8,\n",
        ")\n"
      ],
      "metadata": {
        "id": "327nNui0SL7t"
      },
      "execution_count": 51,
      "outputs": []
    },
    {
      "cell_type": "markdown",
      "source": [
        " Modelio treniravimas"
      ],
      "metadata": {
        "id": "0bRzdyQQSkyR"
      }
    },
    {
      "cell_type": "code",
      "source": [
        "model = TFAutoModelForSeq2SeqLM.from_pretrained(model_name)\n",
        "model.compile(optimizer=tf.keras.optimizers.Adam(learning_rate=5e-5))\n",
        "history = model.fit(train_set, validation_data=val_set, epochs=100)"
      ],
      "metadata": {
        "colab": {
          "base_uri": "https://localhost:8080/"
        },
        "id": "jxGCueV5SPeX",
        "outputId": "48bcd90c-bab0-4c97-c670-27be85c087c9"
      },
      "execution_count": 54,
      "outputs": [
        {
          "output_type": "stream",
          "name": "stderr",
          "text": [
            "All PyTorch model weights were used when initializing TFT5ForConditionalGeneration.\n",
            "\n",
            "All the weights of TFT5ForConditionalGeneration were initialized from the PyTorch model.\n",
            "If your task is similar to the task the model of the checkpoint was trained on, you can already use TFT5ForConditionalGeneration for predictions without further training.\n"
          ]
        },
        {
          "output_type": "stream",
          "name": "stdout",
          "text": [
            "Epoch 1/100\n",
            "12/12 [==============================] - 37s 520ms/step - loss: 5.8201 - val_loss: 4.5707\n",
            "Epoch 2/100\n",
            "12/12 [==============================] - 2s 177ms/step - loss: 4.4623 - val_loss: 3.7230\n",
            "Epoch 3/100\n",
            "12/12 [==============================] - 2s 172ms/step - loss: 3.8552 - val_loss: 3.5760\n",
            "Epoch 4/100\n",
            "12/12 [==============================] - 2s 180ms/step - loss: 3.7242 - val_loss: 3.4716\n",
            "Epoch 5/100\n",
            "12/12 [==============================] - 2s 185ms/step - loss: 3.5982 - val_loss: 3.3869\n",
            "Epoch 6/100\n",
            "12/12 [==============================] - 2s 177ms/step - loss: 3.4968 - val_loss: 3.3143\n",
            "Epoch 7/100\n",
            "12/12 [==============================] - 2s 174ms/step - loss: 3.4297 - val_loss: 3.2496\n",
            "Epoch 8/100\n",
            "12/12 [==============================] - 2s 180ms/step - loss: 3.4043 - val_loss: 3.1875\n",
            "Epoch 9/100\n",
            "12/12 [==============================] - 2s 176ms/step - loss: 3.3176 - val_loss: 3.1239\n",
            "Epoch 10/100\n",
            "12/12 [==============================] - 2s 196ms/step - loss: 3.2804 - val_loss: 3.0721\n",
            "Epoch 11/100\n",
            "12/12 [==============================] - 2s 180ms/step - loss: 3.2048 - val_loss: 3.0234\n",
            "Epoch 12/100\n",
            "12/12 [==============================] - 2s 176ms/step - loss: 3.1048 - val_loss: 2.9748\n",
            "Epoch 13/100\n",
            "12/12 [==============================] - 2s 180ms/step - loss: 3.0206 - val_loss: 2.9243\n",
            "Epoch 14/100\n",
            "12/12 [==============================] - 2s 176ms/step - loss: 2.9927 - val_loss: 2.8721\n",
            "Epoch 15/100\n",
            "12/12 [==============================] - 2s 187ms/step - loss: 2.9444 - val_loss: 2.8264\n",
            "Epoch 16/100\n",
            "12/12 [==============================] - 2s 176ms/step - loss: 2.8110 - val_loss: 2.7851\n",
            "Epoch 17/100\n",
            "12/12 [==============================] - 2s 176ms/step - loss: 2.8520 - val_loss: 2.7433\n",
            "Epoch 18/100\n",
            "12/12 [==============================] - 2s 179ms/step - loss: 2.7611 - val_loss: 2.7043\n",
            "Epoch 19/100\n",
            "12/12 [==============================] - 2s 180ms/step - loss: 2.7775 - val_loss: 2.6683\n",
            "Epoch 20/100\n",
            "12/12 [==============================] - 2s 190ms/step - loss: 2.7371 - val_loss: 2.6247\n",
            "Epoch 21/100\n",
            "12/12 [==============================] - 2s 178ms/step - loss: 2.6842 - val_loss: 2.5939\n",
            "Epoch 22/100\n",
            "12/12 [==============================] - 2s 174ms/step - loss: 2.6522 - val_loss: 2.5624\n",
            "Epoch 23/100\n",
            "12/12 [==============================] - 2s 172ms/step - loss: 2.6264 - val_loss: 2.5337\n",
            "Epoch 24/100\n",
            "12/12 [==============================] - 2s 179ms/step - loss: 2.5244 - val_loss: 2.5086\n",
            "Epoch 25/100\n",
            "12/12 [==============================] - 2s 184ms/step - loss: 2.5312 - val_loss: 2.4799\n",
            "Epoch 26/100\n",
            "12/12 [==============================] - 2s 175ms/step - loss: 2.4570 - val_loss: 2.4545\n",
            "Epoch 27/100\n",
            "12/12 [==============================] - 2s 176ms/step - loss: 2.4616 - val_loss: 2.4300\n",
            "Epoch 28/100\n",
            "12/12 [==============================] - 2s 177ms/step - loss: 2.4245 - val_loss: 2.4055\n",
            "Epoch 29/100\n",
            "12/12 [==============================] - 2s 179ms/step - loss: 2.3842 - val_loss: 2.3852\n",
            "Epoch 30/100\n",
            "12/12 [==============================] - 2s 185ms/step - loss: 2.3322 - val_loss: 2.3594\n",
            "Epoch 31/100\n",
            "12/12 [==============================] - 2s 173ms/step - loss: 2.3702 - val_loss: 2.3402\n",
            "Epoch 32/100\n",
            "12/12 [==============================] - 2s 175ms/step - loss: 2.3330 - val_loss: 2.3181\n",
            "Epoch 33/100\n",
            "12/12 [==============================] - 2s 175ms/step - loss: 2.2881 - val_loss: 2.2994\n",
            "Epoch 34/100\n",
            "12/12 [==============================] - 2s 173ms/step - loss: 2.2593 - val_loss: 2.2816\n",
            "Epoch 35/100\n",
            "12/12 [==============================] - 2s 191ms/step - loss: 2.2406 - val_loss: 2.2663\n",
            "Epoch 36/100\n",
            "12/12 [==============================] - 2s 172ms/step - loss: 2.2356 - val_loss: 2.2481\n",
            "Epoch 37/100\n",
            "12/12 [==============================] - 2s 173ms/step - loss: 2.2040 - val_loss: 2.2339\n",
            "Epoch 38/100\n",
            "12/12 [==============================] - 2s 177ms/step - loss: 2.2118 - val_loss: 2.2210\n",
            "Epoch 39/100\n",
            "12/12 [==============================] - 2s 178ms/step - loss: 2.1430 - val_loss: 2.2004\n",
            "Epoch 40/100\n",
            "12/12 [==============================] - 2s 185ms/step - loss: 2.1571 - val_loss: 2.1884\n",
            "Epoch 41/100\n",
            "12/12 [==============================] - 2s 180ms/step - loss: 2.1304 - val_loss: 2.1801\n",
            "Epoch 42/100\n",
            "12/12 [==============================] - 2s 174ms/step - loss: 2.1011 - val_loss: 2.1634\n",
            "Epoch 43/100\n",
            "12/12 [==============================] - 2s 178ms/step - loss: 2.0667 - val_loss: 2.1461\n",
            "Epoch 44/100\n",
            "12/12 [==============================] - 2s 176ms/step - loss: 2.0799 - val_loss: 2.1314\n",
            "Epoch 45/100\n",
            "12/12 [==============================] - 2s 186ms/step - loss: 2.0484 - val_loss: 2.1197\n",
            "Epoch 46/100\n",
            "12/12 [==============================] - 2s 180ms/step - loss: 2.0258 - val_loss: 2.1059\n",
            "Epoch 47/100\n",
            "12/12 [==============================] - 2s 178ms/step - loss: 1.9770 - val_loss: 2.0932\n",
            "Epoch 48/100\n",
            "12/12 [==============================] - 2s 179ms/step - loss: 1.9924 - val_loss: 2.0828\n",
            "Epoch 49/100\n",
            "12/12 [==============================] - 2s 178ms/step - loss: 1.9706 - val_loss: 2.0697\n",
            "Epoch 50/100\n",
            "12/12 [==============================] - 2s 184ms/step - loss: 1.9419 - val_loss: 2.0618\n",
            "Epoch 51/100\n",
            "12/12 [==============================] - 2s 186ms/step - loss: 1.9004 - val_loss: 2.0502\n",
            "Epoch 52/100\n",
            "12/12 [==============================] - 2s 174ms/step - loss: 1.9313 - val_loss: 2.0416\n",
            "Epoch 53/100\n",
            "12/12 [==============================] - 2s 177ms/step - loss: 1.8763 - val_loss: 2.0328\n",
            "Epoch 54/100\n",
            "12/12 [==============================] - 2s 172ms/step - loss: 1.8758 - val_loss: 2.0180\n",
            "Epoch 55/100\n",
            "12/12 [==============================] - 2s 192ms/step - loss: 1.8634 - val_loss: 2.0033\n",
            "Epoch 56/100\n",
            "12/12 [==============================] - 2s 179ms/step - loss: 1.8630 - val_loss: 1.9985\n",
            "Epoch 57/100\n",
            "12/12 [==============================] - 2s 176ms/step - loss: 1.8401 - val_loss: 1.9849\n",
            "Epoch 58/100\n",
            "12/12 [==============================] - 2s 177ms/step - loss: 1.8371 - val_loss: 1.9737\n",
            "Epoch 59/100\n",
            "12/12 [==============================] - 2s 180ms/step - loss: 1.8157 - val_loss: 1.9700\n",
            "Epoch 60/100\n",
            "12/12 [==============================] - 2s 190ms/step - loss: 1.8068 - val_loss: 1.9578\n",
            "Epoch 61/100\n",
            "12/12 [==============================] - 2s 183ms/step - loss: 1.7688 - val_loss: 1.9529\n",
            "Epoch 62/100\n",
            "12/12 [==============================] - 2s 179ms/step - loss: 1.7582 - val_loss: 1.9532\n",
            "Epoch 63/100\n",
            "12/12 [==============================] - 2s 173ms/step - loss: 1.7881 - val_loss: 1.9469\n",
            "Epoch 64/100\n",
            "12/12 [==============================] - 2s 176ms/step - loss: 1.7223 - val_loss: 1.9458\n",
            "Epoch 65/100\n",
            "12/12 [==============================] - 2s 182ms/step - loss: 1.7451 - val_loss: 1.9427\n",
            "Epoch 66/100\n",
            "12/12 [==============================] - 2s 188ms/step - loss: 1.7289 - val_loss: 1.9320\n",
            "Epoch 67/100\n",
            "12/12 [==============================] - 2s 175ms/step - loss: 1.7073 - val_loss: 1.9227\n",
            "Epoch 68/100\n",
            "12/12 [==============================] - 2s 177ms/step - loss: 1.6947 - val_loss: 1.9198\n",
            "Epoch 69/100\n",
            "12/12 [==============================] - 2s 175ms/step - loss: 1.6929 - val_loss: 1.9161\n",
            "Epoch 70/100\n",
            "12/12 [==============================] - 2s 183ms/step - loss: 1.7200 - val_loss: 1.9159\n",
            "Epoch 71/100\n",
            "12/12 [==============================] - 2s 188ms/step - loss: 1.6353 - val_loss: 1.9081\n",
            "Epoch 72/100\n",
            "12/12 [==============================] - 2s 173ms/step - loss: 1.6535 - val_loss: 1.8969\n",
            "Epoch 73/100\n",
            "12/12 [==============================] - 2s 175ms/step - loss: 1.6382 - val_loss: 1.8942\n",
            "Epoch 74/100\n",
            "12/12 [==============================] - 2s 179ms/step - loss: 1.5908 - val_loss: 1.8984\n",
            "Epoch 75/100\n",
            "12/12 [==============================] - 2s 182ms/step - loss: 1.6213 - val_loss: 1.8918\n",
            "Epoch 76/100\n",
            "12/12 [==============================] - 2s 189ms/step - loss: 1.6074 - val_loss: 1.8765\n",
            "Epoch 77/100\n",
            "12/12 [==============================] - 2s 181ms/step - loss: 1.6077 - val_loss: 1.8680\n",
            "Epoch 78/100\n",
            "12/12 [==============================] - 2s 185ms/step - loss: 1.5723 - val_loss: 1.8656\n",
            "Epoch 79/100\n",
            "12/12 [==============================] - 2s 189ms/step - loss: 1.5578 - val_loss: 1.8693\n",
            "Epoch 80/100\n",
            "12/12 [==============================] - 2s 181ms/step - loss: 1.5391 - val_loss: 1.8678\n",
            "Epoch 81/100\n",
            "12/12 [==============================] - 2s 186ms/step - loss: 1.5411 - val_loss: 1.8603\n",
            "Epoch 82/100\n",
            "12/12 [==============================] - 2s 180ms/step - loss: 1.5322 - val_loss: 1.8646\n",
            "Epoch 83/100\n",
            "12/12 [==============================] - 2s 174ms/step - loss: 1.5557 - val_loss: 1.8696\n",
            "Epoch 84/100\n",
            "12/12 [==============================] - 2s 176ms/step - loss: 1.5902 - val_loss: 1.8640\n",
            "Epoch 85/100\n",
            "12/12 [==============================] - 2s 180ms/step - loss: 1.5087 - val_loss: 1.8659\n",
            "Epoch 86/100\n",
            "12/12 [==============================] - 2s 190ms/step - loss: 1.5325 - val_loss: 1.8656\n",
            "Epoch 87/100\n",
            "12/12 [==============================] - 2s 175ms/step - loss: 1.5375 - val_loss: 1.8550\n",
            "Epoch 88/100\n",
            "12/12 [==============================] - 2s 178ms/step - loss: 1.5015 - val_loss: 1.8587\n",
            "Epoch 89/100\n",
            "12/12 [==============================] - 2s 174ms/step - loss: 1.4935 - val_loss: 1.8694\n",
            "Epoch 90/100\n",
            "12/12 [==============================] - 2s 179ms/step - loss: 1.4574 - val_loss: 1.8655\n",
            "Epoch 91/100\n",
            "12/12 [==============================] - 2s 194ms/step - loss: 1.4811 - val_loss: 1.8541\n",
            "Epoch 92/100\n",
            "12/12 [==============================] - 2s 180ms/step - loss: 1.4584 - val_loss: 1.8543\n",
            "Epoch 93/100\n",
            "12/12 [==============================] - 2s 174ms/step - loss: 1.4375 - val_loss: 1.8525\n",
            "Epoch 94/100\n",
            "12/12 [==============================] - 2s 176ms/step - loss: 1.4340 - val_loss: 1.8464\n",
            "Epoch 95/100\n",
            "12/12 [==============================] - 2s 174ms/step - loss: 1.4173 - val_loss: 1.8487\n",
            "Epoch 96/100\n",
            "12/12 [==============================] - 2s 189ms/step - loss: 1.4347 - val_loss: 1.8538\n",
            "Epoch 97/100\n",
            "12/12 [==============================] - 2s 178ms/step - loss: 1.4248 - val_loss: 1.8387\n",
            "Epoch 98/100\n",
            "12/12 [==============================] - 2s 175ms/step - loss: 1.4265 - val_loss: 1.8372\n",
            "Epoch 99/100\n",
            "12/12 [==============================] - 2s 175ms/step - loss: 1.4164 - val_loss: 1.8421\n",
            "Epoch 100/100\n",
            "12/12 [==============================] - 2s 180ms/step - loss: 1.3869 - val_loss: 1.8455\n"
          ]
        }
      ]
    },
    {
      "cell_type": "markdown",
      "source": [
        " 8. Modelio testavimas"
      ],
      "metadata": {
        "id": "8ski8T1aSbQl"
      }
    },
    {
      "cell_type": "code",
      "source": [
        "model.save_pretrained(\"gnm-t5-final\")\n",
        "tokenizer.save_pretrained(\"gnm-t5-final\")"
      ],
      "metadata": {
        "colab": {
          "base_uri": "https://localhost:8080/"
        },
        "id": "EPdRlA_oeJdM",
        "outputId": "a29c07c8-479b-4218-fcf6-d23103c214d6"
      },
      "execution_count": 55,
      "outputs": [
        {
          "output_type": "execute_result",
          "data": {
            "text/plain": [
              "('gnm-t5-final/tokenizer_config.json',\n",
              " 'gnm-t5-final/special_tokens_map.json',\n",
              " 'gnm-t5-final/spiece.model',\n",
              " 'gnm-t5-final/added_tokens.json')"
            ]
          },
          "metadata": {},
          "execution_count": 55
        }
      ]
    },
    {
      "cell_type": "code",
      "source": [
        "def test_ivestis(ivestis):\n",
        "    input_ids = tokenizer(ivestis, return_tensors=\"tf\", truncation=True, padding=True).input_ids\n",
        "    output_ids = model.generate(\n",
        "        input_ids,\n",
        "        max_length=128,\n",
        "        do_sample=True,\n",
        "        temperature=0.7,\n",
        "        top_k=50,\n",
        "        top_p=0.95,\n",
        "        repetition_penalty=2.5,\n",
        "        eos_token_id=tokenizer.eos_token_id,\n",
        "        decoder_start_token_id=tokenizer.pad_token_id\n",
        "    )\n",
        "    isvestis = tokenizer.decode(output_ids[0], skip_special_tokens=True)\n",
        "    print(f\"🔹 Įvestis: {ivestis}\")\n",
        "    print(f\"🧠 Sugeneruota išvestis: {isvestis}\")\n",
        "    return isvestis\n",
        "\n",
        "test_ivestis(\"insultas. žmogų ištiko insultas po skyrybų.\")"
      ],
      "metadata": {
        "colab": {
          "base_uri": "https://localhost:8080/",
          "height": 90
        },
        "id": "0rjUiN_tePGa",
        "outputId": "80f72564-c666-49ed-aa5b-7112ec66cdbd"
      },
      "execution_count": 71,
      "outputs": [
        {
          "output_type": "stream",
          "name": "stdout",
          "text": [
            "🔹 Įvestis: insultas. žmogų ištiko insultas po skyrybų.\n",
            "🧠 Sugeneruota išvestis: mog itiko insultas po skyrybimu. Tai insultacimou svarvard interesu, kad fresco gali bti susij su nenoru pasireikio danikumo konflikto del reakcija innovativistu!\n"
          ]
        },
        {
          "output_type": "execute_result",
          "data": {
            "text/plain": [
              "'mog itiko insultas po skyrybimu. Tai insultacimou svarvard interesu, kad fresco gali bti susij su nenoru pasireikio danikumo konflikto del reakcija innovativistu!'"
            ],
            "application/vnd.google.colaboratory.intrinsic+json": {
              "type": "string"
            }
          },
          "metadata": {},
          "execution_count": 71
        }
      ]
    }
  ]
}